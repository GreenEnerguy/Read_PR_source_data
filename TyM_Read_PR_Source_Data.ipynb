{
 "cells": [
  {
   "cell_type": "code",
   "execution_count": null,
   "id": "2820364e",
   "metadata": {},
   "outputs": [],
   "source": [
    "from pathlib import Path\n",
    "import pandas as pd\n",
    "import numpy as np"
   ]
  },
  {
   "cell_type": "code",
   "execution_count": null,
   "id": "ba3b26fd",
   "metadata": {},
   "outputs": [],
   "source": [
    "this_dir = Path(\".\").resolve()"
   ]
  },
  {
   "cell_type": "code",
   "execution_count": null,
   "id": "48d9e7db",
   "metadata": {},
   "outputs": [],
   "source": [
    "months = list()\n",
    "for path in (this_dir / \"1_Data\").rglob(\"*.xlsx\"):\n",
    "    print(f'Reading {path.name}')\n",
    "    month = pd.read_excel(path, sheet_name='PR', parse_dates=['Fecha/Señal'],  index_col='Fecha/Señal', usecols=\"A:AC\")\n",
    "    months.append(month)"
   ]
  },
  {
   "cell_type": "code",
   "execution_count": null,
   "id": "7437af13",
   "metadata": {},
   "outputs": [],
   "source": [
    "pr = pd.concat(months)"
   ]
  },
  {
   "cell_type": "code",
   "execution_count": null,
   "id": "d9d84951",
   "metadata": {},
   "outputs": [],
   "source": [
    "pr = pr.sort_index()"
   ]
  },
  {
   "cell_type": "code",
   "execution_count": null,
   "id": "2526dda9",
   "metadata": {},
   "outputs": [],
   "source": [
    "# I export the consolidated data into a single Excel file\n",
    "writer = pd.ExcelWriter('TyM_PR_Source_Data.xlsx', engine='xlsxwriter')\n",
    "pr.to_excel(writer, sheet_name='Source_PR')\n",
    "writer.save()"
   ]
  },
  {
   "cell_type": "code",
   "execution_count": null,
   "id": "03c7ff60",
   "metadata": {},
   "outputs": [],
   "source": [
    "# In order to work with a pivot table, I need to get rid of the dataframe index\n",
    "pr.reset_index(inplace=True)"
   ]
  },
  {
   "cell_type": "code",
   "execution_count": null,
   "id": "8803dcb8",
   "metadata": {},
   "outputs": [],
   "source": [
    "# Names of columns 1 and 2 are integers instead of text strings, that created me problems when pivoting the data;\n",
    "# I change the type from integers to strings\n",
    "pr.rename(columns={1:'1', 2:'2'}, inplace=True)"
   ]
  },
  {
   "cell_type": "code",
   "execution_count": null,
   "id": "77088cab",
   "metadata": {},
   "outputs": [],
   "source": [
    "# Columns that I want to use in the pivot table\n",
    "values_pivot = ['Irradiación (kWh/m2) Comunicación',\n",
    "                'Irradiación (Wh/m2) No filtrada',\n",
    "                '1',\n",
    "                '2',\n",
    "                'Irradiación (kWh/m2) (POAi) Filtrado I',\n",
    "                'Pf\\n(kWp)',\n",
    "                'Energía M Filtrada2 (kWh)',\n",
    "                'Energía T Filtrada2 (kWh)',\n",
    "                'HS']"
   ]
  },
  {
   "cell_type": "code",
   "execution_count": null,
   "id": "ecfa303b",
   "metadata": {},
   "outputs": [],
   "source": [
    "# First I pivot the data\n",
    "pivot_pr = pd.pivot_table(pr,\n",
    "                          index=\"Fecha/Señal\", values=values_pivot,\n",
    "                          aggfunc={'Irradiación (kWh/m2) Comunicación': np.sum,\n",
    "                                   'Irradiación (Wh/m2) No filtrada': np.sum,\n",
    "                                   'Irradiación (kWh/m2) (POAi) Filtrado I': np.sum,\n",
    "                                   '1': np.sum,\n",
    "                                   '2': np.sum,\n",
    "                                   'Pf\\n(kWp)': np.mean,\n",
    "                                   'Energía M Filtrada2 (kWh)': np.sum,\n",
    "                                   'Energía T Filtrada2 (kWh)': np.sum,\n",
    "                                   'HS': np.sum})"
   ]
  },
  {
   "cell_type": "code",
   "execution_count": null,
   "id": "8c3669ed",
   "metadata": {},
   "outputs": [],
   "source": [
    "# Then I resample the data from five minutes to days ('D') and months ('M')\n",
    "pr_daily_summary = pivot_pr.resample('D').agg({\n",
    "                                               'Irradiación (kWh/m2) Comunicación': np.sum,\n",
    "                                               'Irradiación (Wh/m2) No filtrada': np.sum,\n",
    "                                               'Irradiación (kWh/m2) (POAi) Filtrado I': np.sum,\n",
    "                                               '1': np.sum,\n",
    "                                               '2': np.sum,\n",
    "                                               'Pf\\n(kWp)': np.mean,\n",
    "                                               'Energía M Filtrada2 (kWh)': np.sum,\n",
    "                                               'Energía T Filtrada2 (kWh)': np.sum,\n",
    "                                               'HS': np.sum})"
   ]
  },
  {
   "cell_type": "code",
   "execution_count": null,
   "id": "16e52f3a",
   "metadata": {},
   "outputs": [],
   "source": [
    "pr_monthly_summary = pivot_pr.resample('M').agg({\n",
    "                                               'Irradiación (kWh/m2) Comunicación': np.sum,\n",
    "                                               'Irradiación (Wh/m2) No filtrada': np.sum,\n",
    "                                               'Irradiación (kWh/m2) (POAi) Filtrado I': np.sum,\n",
    "                                               '1': np.sum,\n",
    "                                               '2': np.sum,\n",
    "                                               'Pf\\n(kWp)': np.mean,\n",
    "                                               'Energía M Filtrada2 (kWh)': np.sum,\n",
    "                                               'Energía T Filtrada2 (kWh)': np.sum,\n",
    "                                               'HS': np.sum})"
   ]
  },
  {
   "cell_type": "code",
   "execution_count": null,
   "id": "76fbdcf0",
   "metadata": {},
   "outputs": [],
   "source": [
    "# I create a second pivot with fewer columns\n",
    "values_pivot_2 = ['Irradiación (kWh/m2) Comunicación',\n",
    "                  'Energía M Filtrada (kWh)',\n",
    "                  'Energía T Filtrada (kWh)']"
   ]
  },
  {
   "cell_type": "code",
   "execution_count": null,
   "id": "60bbfdc2",
   "metadata": {},
   "outputs": [],
   "source": [
    "pivot_pr_2 = pd.pivot_table(pr,\n",
    "                            index=\"Fecha/Señal\", values=values_pivot_2,\n",
    "                            aggfunc={'Irradiación (kWh/m2) Comunicación': np.sum,\n",
    "                                     'Energía M Filtrada (kWh)': np.sum,\n",
    "                                     'Energía T Filtrada (kWh)': np.sum})"
   ]
  },
  {
   "cell_type": "code",
   "execution_count": null,
   "id": "bf53b972",
   "metadata": {},
   "outputs": [],
   "source": [
    "pr_daily_summary_2 = pivot_pr_2.resample('D').agg({\n",
    "                                               'Irradiación (kWh/m2) Comunicación': np.sum,\n",
    "                                               'Energía M Filtrada (kWh)': np.sum,\n",
    "                                               'Energía T Filtrada (kWh)': np.sum})"
   ]
  },
  {
   "cell_type": "code",
   "execution_count": null,
   "id": "00f2fbfa",
   "metadata": {},
   "outputs": [],
   "source": [
    "pr_monthly_summary_2 = pivot_pr_2.resample('M').agg({\n",
    "                                               'Irradiación (kWh/m2) Comunicación': np.sum,\n",
    "                                               'Energía M Filtrada (kWh)': np.sum,\n",
    "                                               'Energía T Filtrada (kWh)': np.sum})"
   ]
  },
  {
   "cell_type": "code",
   "execution_count": null,
   "id": "389ca7d6",
   "metadata": {},
   "outputs": [],
   "source": [
    "writer = pd.ExcelWriter('TyM_Calculo_PR.xlsx', engine='xlsxwriter')\n",
    "pr_daily_summary.to_excel(writer, sheet_name='PR_Daily_Incidencias')\n",
    "pr_monthly_summary.to_excel(writer, sheet_name='PR_Monthly_Incidencias')\n",
    "pr_daily_summary_2.to_excel(writer, sheet_name='PR_Daily_NoIncidencias')\n",
    "pr_monthly_summary_2.to_excel(writer, sheet_name='PR_Monthly_NoIncidencias')\n",
    "writer.save()"
   ]
  }
 ],
 "metadata": {
  "kernelspec": {
   "display_name": "Python 3 (ipykernel)",
   "language": "python",
   "name": "python3"
  },
  "language_info": {
   "codemirror_mode": {
    "name": "ipython",
    "version": 3
   },
   "file_extension": ".py",
   "mimetype": "text/x-python",
   "name": "python",
   "nbconvert_exporter": "python",
   "pygments_lexer": "ipython3",
   "version": "3.7.9"
  }
 },
 "nbformat": 4,
 "nbformat_minor": 5
}
